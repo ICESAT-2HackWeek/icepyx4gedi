{
 "cells": [
  {
   "cell_type": "code",
   "execution_count": null,
   "id": "8867c3e6-7643-4059-aaa0-ac7087816046",
   "metadata": {},
   "outputs": [],
   "source": [
    "# For searching and accessing NASA data\n",
    "import earthaccess\n",
    "\n",
    "# For reading data, analysis and plotting\n",
    "import xarray as xr\n",
    "import hvplot.xarray\n",
    "import geopandas as gpd\n",
    "\n",
    "import pprint  # For nice printing of python objects"
   ]
  },
  {
   "cell_type": "code",
   "execution_count": null,
   "id": "0cfee933-7de4-4e87-83e7-4b58c9683f6a",
   "metadata": {},
   "outputs": [],
   "source": [
    "earthaccess.login(strategy='interactive', persist=True)"
   ]
  },
  {
   "cell_type": "code",
   "execution_count": null,
   "id": "64d6ed18-db79-4403-affb-2657dd6ee634",
   "metadata": {},
   "outputs": [],
   "source": [
    "auth = earthaccess.login()"
   ]
  },
  {
   "cell_type": "code",
   "execution_count": null,
   "id": "eb95d3da-32c3-4f1b-b4f8-6c5afc83e91c",
   "metadata": {},
   "outputs": [],
   "source": [
    "query = earthaccess.search_datasets(\n",
    "            keyword=\"GEDI\",\n",
    "            cloud_hosted=True\n",
    ")"
   ]
  },
  {
   "cell_type": "code",
   "execution_count": null,
   "id": "e225294d-a3dd-4080-a46f-6072cdd39cdd",
   "metadata": {
    "scrolled": true
   },
   "outputs": [],
   "source": [
    "for collection in query[:10]:\n",
    "    pprint.pprint(collection.summary(), sort_dicts=True, indent=4)\n",
    "    print('')  # Add a space between collections for readability"
   ]
  },
  {
   "cell_type": "code",
   "execution_count": null,
   "id": "b0f709dc-8a80-4656-84cb-0663a5fcdaef",
   "metadata": {},
   "outputs": [],
   "source": [
    "gj = gpd.read_file('/home/jovyan/icepyx4gedi/files/gedi_wildfire.geojson')\n",
    "bbox = tuple(list(gj.total_bounds))"
   ]
  },
  {
   "cell_type": "code",
   "execution_count": null,
   "id": "e0930b6b-25db-489e-9097-eda9a8d1c4f7",
   "metadata": {},
   "outputs": [],
   "source": [
    "results = earthaccess.search_data(\n",
    "    short_name = 'GEDI02_B',\n",
    "    cloud_hosted = True,\n",
    "    bounding_box = bbox,\n",
    "    temporal = ('2019-04-04','2020-12-31')\n",
    ")"
   ]
  },
  {
   "cell_type": "code",
   "execution_count": null,
   "id": "d4abec54-6e25-4847-b0f6-842e11d9dd7f",
   "metadata": {},
   "outputs": [],
   "source": [
    "[display(r) for r in results[:10]]"
   ]
  },
  {
   "cell_type": "code",
   "execution_count": null,
   "id": "9e7f00f2-4c86-462b-8f23-ca07469fa78e",
   "metadata": {},
   "outputs": [],
   "source": [
    "len(results)"
   ]
  },
  {
   "cell_type": "code",
   "execution_count": null,
   "id": "4eb1414c-d5f1-4ca2-8b71-3fa22ba0f39f",
   "metadata": {},
   "outputs": [],
   "source": [
    "%time\n",
    "files = earthaccess.open(results)\n",
    "ds = xr.open_dataset(files[1], group='/BEAM0001/', phony_dims='sort')"
   ]
  },
  {
   "cell_type": "code",
   "execution_count": null,
   "id": "5d0665ad-a8e5-4f60-b6c9-bb76488c7256",
   "metadata": {},
   "outputs": [],
   "source": [
    "ds['pai'].hvplot(kind='scatter', s=2)"
   ]
  },
  {
   "cell_type": "markdown",
   "id": "94f77200-83a6-45f7-9420-8450d9246196",
   "metadata": {},
   "source": [
    "# Direct Download Approach"
   ]
  },
  {
   "cell_type": "code",
   "execution_count": null,
   "id": "3675bfe5-3315-40cb-b1bd-75459f27e023",
   "metadata": {},
   "outputs": [],
   "source": [
    "downloaded_files = earthaccess.download(\n",
    "    results[:5],\n",
    "    local_path='/home/jovyan/icepyx4gedi/files/gedi/',\n",
    ")"
   ]
  },
  {
   "cell_type": "code",
   "execution_count": null,
   "id": "6cda0400-65b6-4635-abc6-b80b15a2d9b0",
   "metadata": {},
   "outputs": [],
   "source": [
    "from gedixr.gedi import extract_data\n",
    "\n",
    "gedi_dir = \"/home/jovyan/icepyx4gedi/files/gedi/\"\n",
    "gdf_l2b = extract_data(directory=gedi_dir, gedi_product='L2B',\n",
    "                       subset_vector='/home/jovyan/icepyx4gedi/files/gedi_wildfire.geojson')"
   ]
  },
  {
   "cell_type": "code",
   "execution_count": null,
   "id": "8b7552d5-fcae-4cc6-806f-19aabb0da65f",
   "metadata": {},
   "outputs": [],
   "source": [
    "gdf_l2b['gedi_wildfire']['gdf']"
   ]
  },
  {
   "cell_type": "code",
   "execution_count": null,
   "id": "452f2f46-b247-4d20-a75b-056aadc6c02f",
   "metadata": {},
   "outputs": [],
   "source": [
    "from gedixr.xr import gdf_to_xr\n",
    "\n",
    "ds = gdf_to_xr(gdf=gdf_l2b['gedi_wildfire']['gdf'])"
   ]
  },
  {
   "cell_type": "code",
   "execution_count": null,
   "id": "72263c53-75fd-4986-96b0-f3fc71c322bb",
   "metadata": {},
   "outputs": [],
   "source": [
    "ds['pai'].plot()"
   ]
  },
  {
   "cell_type": "code",
   "execution_count": null,
   "id": "9feec690-bf78-46af-ba78-030a87173399",
   "metadata": {},
   "outputs": [],
   "source": []
  }
 ],
 "metadata": {
  "kernelspec": {
   "display_name": "Python 3 (ipykernel)",
   "language": "python",
   "name": "python3"
  },
  "language_info": {
   "codemirror_mode": {
    "name": "ipython",
    "version": 3
   },
   "file_extension": ".py",
   "mimetype": "text/x-python",
   "name": "python",
   "nbconvert_exporter": "python",
   "pygments_lexer": "ipython3",
   "version": "3.11.9"
  }
 },
 "nbformat": 4,
 "nbformat_minor": 5
}
