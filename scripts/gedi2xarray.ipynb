{
 "cells": [
  {
   "cell_type": "code",
   "execution_count": null,
   "id": "5d597c18-a6c1-4ac1-b7d7-c463f09f2c13",
   "metadata": {
    "scrolled": true
   },
   "outputs": [],
   "source": [
    "# Most up-to-date version of H5Coro needed to take NSIDC credentials\n",
    "%pip install -U h5coro"
   ]
  },
  {
   "cell_type": "code",
   "execution_count": null,
   "id": "8867c3e6-7643-4059-aaa0-ac7087816046",
   "metadata": {},
   "outputs": [],
   "source": [
    "# For searching and accessing NASA data\n",
    "import earthaccess\n",
    "\n",
    "# For reading data, analysis and plotting\n",
    "import xarray as xr\n",
    "import hvplot.xarray\n",
    "from h5coro import h5coro, s3driver\n",
    "import numpy as np\n",
    "import pandas as pd\n",
    "import geopandas as gpd\n",
    "\n",
    "import pprint  # For nice printing of python objects"
   ]
  },
  {
   "cell_type": "code",
   "execution_count": null,
   "id": "0cfee933-7de4-4e87-83e7-4b58c9683f6a",
   "metadata": {},
   "outputs": [],
   "source": [
    "earthaccess.login(strategy='interactive', persist=True)"
   ]
  },
  {
   "cell_type": "code",
   "execution_count": null,
   "id": "64d6ed18-db79-4403-affb-2657dd6ee634",
   "metadata": {},
   "outputs": [],
   "source": [
    "auth = earthaccess.login()"
   ]
  },
  {
   "cell_type": "code",
   "execution_count": null,
   "id": "b0f709dc-8a80-4656-84cb-0663a5fcdaef",
   "metadata": {},
   "outputs": [],
   "source": [
    "gj = gpd.read_file('/home/jovyan/icesat2-snowex/jsons-shps/toolik_lidar_boxes.geojson')\n",
    "bbox = tuple(list(gj.total_bounds))"
   ]
  },
  {
   "cell_type": "code",
   "execution_count": null,
   "id": "e0930b6b-25db-489e-9097-eda9a8d1c4f7",
   "metadata": {},
   "outputs": [],
   "source": [
    "short_name = \"ATL12\"\n",
    "\n",
    "results = earthaccess.search_data(\n",
    "    short_name = short_name,\n",
    "    cloud_hosted = True,\n",
    "    bounding_box = bbox,\n",
    "    temporal = ('2022-01-01','2022-01-31')\n",
    ")"
   ]
  },
  {
   "cell_type": "code",
   "execution_count": null,
   "id": "4eb1414c-d5f1-4ca2-8b71-3fa22ba0f39f",
   "metadata": {},
   "outputs": [],
   "source": [
    "%time\n",
    "files = earthaccess.open(results)"
   ]
  },
  {
   "cell_type": "code",
   "execution_count": null,
   "id": "85c1e528-fd3d-49b3-8d99-a572e2c7ba3e",
   "metadata": {},
   "outputs": [],
   "source": [
    "s3_creds = auth.get_s3_credentials(daac=\"NSIDC\")"
   ]
  },
  {
   "cell_type": "code",
   "execution_count": null,
   "id": "e41843bd-6fcd-4019-837e-ebe6d955d00c",
   "metadata": {},
   "outputs": [],
   "source": [
    "granule = files[0]\n",
    "granule.full_name"
   ]
  },
  {
   "cell_type": "code",
   "execution_count": null,
   "id": "fb25d1b7-9f88-4cba-ab2b-c8545f2f6487",
   "metadata": {},
   "outputs": [],
   "source": [
    "h5obj = h5coro.H5Coro(granule.full_name[5:],\n",
    "                      s3driver.S3Driver, credentials=s3_creds)"
   ]
  },
  {
   "cell_type": "code",
   "execution_count": null,
   "id": "4abe72b4-576a-497e-bf50-3affc8cae072",
   "metadata": {},
   "outputs": [],
   "source": [
    "if short_name == \"ATL03\":\n",
    "    # ATL03\n",
    "    variables = ['gt2l/heights/lat_ph',\n",
    "                 'gt2l/heights/lon_ph',\n",
    "                 'gt2l/heights/signal_conf_ph',\n",
    "                 'gt2l/heights/h_ph'\n",
    "                 ]\n",
    "    print(\"Caution: File is very large. Consider spatial subsetting or photon filtering \"\\\n",
    "          \"before converting to a geodataframe.\")\n",
    "elif short_name == \"ATL06\":\n",
    "    # ATL06\n",
    "    variables = ['gt2l/land_ice_segments/latitude',\n",
    "                 'gt2l/land_ice_segments/longitude',\n",
    "                 'gt2l/land_ice_segments/h_li'\n",
    "                 ]\n",
    "elif short_name == \"ATL07\":\n",
    "    # ATL07\n",
    "    variables = ['gt2l/sea_ice_segments/latitude',\n",
    "                 'gt2l/sea_ice_segments/longitude',\n",
    "                 'gt2l/sea_ice_segments/heights/height_segment_height'\n",
    "                 ]\n",
    "elif short_name == \"ATL08\":\n",
    "    # ATL08\n",
    "    variables = ['gt2l/land_segments/latitude',\n",
    "                 'gt2l/land_segments/longitude',\n",
    "                 'gt2l/land_segments/terrain/h_te_best_fit'\n",
    "                 ]\n",
    "elif short_name == \"ATL12\":\n",
    "    # ATL12\n",
    "    variables = ['gt2l/ssh_segments/latitude',\n",
    "                 'gt2l/ssh_segments/longitude',\n",
    "                 'gt2l/ssh_segments/heights/h'\n",
    "                 ]\n",
    "else:\n",
    "    print(\"Unrecognized product short name.\")"
   ]
  },
  {
   "cell_type": "code",
   "execution_count": null,
   "id": "6caabefd-31a0-4bd0-a51c-6c0602732b75",
   "metadata": {},
   "outputs": [],
   "source": [
    "promise = h5obj.readDatasets(variables, block=True, enableAttributes=False)"
   ]
  },
  {
   "cell_type": "code",
   "execution_count": null,
   "id": "bf59dc79-2fdd-4671-9201-a79e34cb452d",
   "metadata": {},
   "outputs": [],
   "source": [
    "var_paths = list(promise.keys())"
   ]
  },
  {
   "cell_type": "code",
   "execution_count": null,
   "id": "a10d8609-2a6f-411c-84b1-4343c4d93a49",
   "metadata": {},
   "outputs": [],
   "source": [
    "df = pd.DataFrame(data={'lat': promise[var_paths[0]],\n",
    "                        'lon': promise[var_paths[1]],\n",
    "                        'height': promise[var_paths[2]]\n",
    "                       }\n",
    "                 )\n",
    "df.head()"
   ]
  },
  {
   "cell_type": "code",
   "execution_count": null,
   "id": "b3d27c74-4053-4a60-b04d-92de3541fc10",
   "metadata": {},
   "outputs": [],
   "source": [
    "gdf = gpd.GeoDataFrame(df, geometry=gpd.points_from_xy(df.lon, df.lat), crs='epsg:4326')\n",
    "gdf"
   ]
  },
  {
   "cell_type": "code",
   "execution_count": null,
   "id": "a7077820-e4e6-4e44-aca6-cda2c4cbef33",
   "metadata": {},
   "outputs": [],
   "source": [
    "gdf.explore(column=\"height\", tiles=\"Esri.WorldImagery\")"
   ]
  },
  {
   "cell_type": "code",
   "execution_count": null,
   "id": "ccf11172-700b-4b50-bdca-4e01f538fd27",
   "metadata": {},
   "outputs": [],
   "source": []
  }
 ],
 "metadata": {
  "kernelspec": {
   "display_name": "Python 3 (ipykernel)",
   "language": "python",
   "name": "python3"
  },
  "language_info": {
   "codemirror_mode": {
    "name": "ipython",
    "version": 3
   },
   "file_extension": ".py",
   "mimetype": "text/x-python",
   "name": "python",
   "nbconvert_exporter": "python",
   "pygments_lexer": "ipython3",
   "version": "3.11.9"
  }
 },
 "nbformat": 4,
 "nbformat_minor": 5
}
